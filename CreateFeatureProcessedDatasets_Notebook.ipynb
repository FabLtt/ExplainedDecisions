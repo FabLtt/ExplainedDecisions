{
 "cells": [
  {
   "cell_type": "code",
   "execution_count": null,
   "metadata": {},
   "outputs": [],
   "source": [
    "import pickle   \n",
    "import numpy as np\n",
    "import pandas as pd\n",
    "\n",
    "import ImportFunctions as impf\n",
    "\n",
    "from sklearn.preprocessing import StandardScaler"
   ]
  },
  {
   "cell_type": "markdown",
   "metadata": {},
   "source": [
    "# Create Novice processed dataset"
   ]
  },
  {
   "cell_type": "code",
   "execution_count": null,
   "metadata": {},
   "outputs": [],
   "source": [
    "directory = './Data/Experiments_NoviceNovice/'\n",
    "expertise = 'Novice'"
   ]
  },
  {
   "cell_type": "markdown",
   "metadata": {},
   "source": [
    "- Append all processed features in one dataset "
   ]
  },
  {
   "cell_type": "code",
   "execution_count": null,
   "metadata": {},
   "outputs": [],
   "source": [
    "Dataset_0 = impf.ImportDatasetFromJsonFileFull_MultiPredWrtGoal(directory,0,both=True, extended=True)\n",
    "Dataset_1 = impf.ImportDatasetFromJsonFileFull_MultiPredWrtGoal(directory,1, both=True, extended=True)\n",
    "Dataset_full = Dataset_0\n",
    "Dataset_full = np.append(Dataset_full,Dataset_1,axis=0)\n",
    "Dataset_full[:,2:-1] = StandardScaler().fit_transform(Dataset_full[:,2:-1])"
   ]
  },
  {
   "cell_type": "markdown",
   "metadata": {},
   "source": [
    "- Associate each feature with its label"
   ]
  },
  {
   "cell_type": "code",
   "execution_count": null,
   "metadata": {},
   "outputs": [],
   "source": [
    "Labels = impf.giveLabels(\"full_ts_multi_both_wrtgoal_extended\")\n",
    "Labels.insert(0,\"Herder_id\")\n",
    "Labels.insert(1,\"Trial_id\")\n",
    "\n",
    "Dataset_full_df = pd.DataFrame(Dataset_full,columns=Labels)\n",
    "\n",
    "Datasets = []"
   ]
  },
  {
   "cell_type": "markdown",
   "metadata": {},
   "source": [
    "- Set the deltatime 'step' at which the dataset is sampled\n",
    "\n",
    "        default 'step = 1' corresponds to dt = 0.02 s"
   ]
  },
  {
   "cell_type": "code",
   "execution_count": null,
   "metadata": {},
   "outputs": [],
   "source": [
    "step = 1\n",
    "\n",
    "for i in range(step):\n",
    "    Datasets.append(Dataset_full_df.iloc[i::step,:]) \n",
    "    \n",
    "Dataset_full_df_samples = pd.concat(Datasets)\n",
    "print(\"total sampes are \", len(Dataset_full_df_samples))"
   ]
  },
  {
   "cell_type": "markdown",
   "metadata": {},
   "source": [
    "- Save the new processed dataset to a file "
   ]
  },
  {
   "cell_type": "code",
   "execution_count": null,
   "metadata": {},
   "outputs": [],
   "source": [
    "filename = \"./Datasets/DatasetFile_\"+expertise+\"_step\"+str(step)\n",
    "with open(filename,\"wb\") as f:\n",
    "    pickle.dump(Dataset_full_df_samples,f)\n",
    "\n",
    "print(\"file \",filename,\" saved!\")"
   ]
  },
  {
   "cell_type": "markdown",
   "metadata": {},
   "source": [
    "# Create Expert processed dataset"
   ]
  },
  {
   "cell_type": "code",
   "execution_count": null,
   "metadata": {},
   "outputs": [],
   "source": [
    "directory = './Data/Experiments_ExpertExpert/'\n",
    "expertise = 'Expert'"
   ]
  },
  {
   "cell_type": "markdown",
   "metadata": {},
   "source": [
    "- Append all processed features in one dataset "
   ]
  },
  {
   "cell_type": "code",
   "execution_count": null,
   "metadata": {},
   "outputs": [],
   "source": [
    "Dataset_0 = impf.ImportDatasetFromJsonFileFull_MultiPredWrtGoal(directory,0,both=True, extended=True)\n",
    "Dataset_1 = impf.ImportDatasetFromJsonFileFull_MultiPredWrtGoal(directory,1, both=True, extended=True)\n",
    "Dataset_full = Dataset_0\n",
    "Dataset_full = np.append(Dataset_full,Dataset_1,axis=0)\n",
    "Dataset_full[:,2:-1] = StandardScaler().fit_transform(Dataset_full[:,2:-1])"
   ]
  },
  {
   "cell_type": "markdown",
   "metadata": {},
   "source": [
    "- Associate each feature with its label"
   ]
  },
  {
   "cell_type": "code",
   "execution_count": null,
   "metadata": {},
   "outputs": [],
   "source": [
    "Labels = impf.giveLabels(\"full_ts_multi_both_wrtgoal_extended\")\n",
    "Labels.insert(0,\"Herder_id\")\n",
    "Labels.insert(1,\"Trial_id\")\n",
    "\n",
    "Dataset_full_df = pd.DataFrame(Dataset_full,columns=Labels)\n",
    "\n",
    "Datasets = []"
   ]
  },
  {
   "cell_type": "markdown",
   "metadata": {},
   "source": [
    "- Set the deltatime 'step' at which the dataset is sampled\n",
    "\n",
    "        default 'step = 1' corresponds to dt = 0.02s\n",
    "        other options are 'step = 2' (dt = 0.04s) and 'step = 4' (dt = 0.08)"
   ]
  },
  {
   "cell_type": "code",
   "execution_count": null,
   "metadata": {},
   "outputs": [],
   "source": [
    "step = 1\n",
    "\n",
    "for i in range(step):\n",
    "    Datasets.append(Dataset_full_df.iloc[i::step,:]) \n",
    "    \n",
    "Dataset_full_df_samples = pd.concat(Datasets)\n",
    "print(\"total sampes are \", len(Dataset_full_df_samples))"
   ]
  },
  {
   "cell_type": "markdown",
   "metadata": {},
   "source": [
    "- Save the new processed dataset to a file "
   ]
  },
  {
   "cell_type": "code",
   "execution_count": null,
   "metadata": {},
   "outputs": [],
   "source": [
    "filename = \"./Datasets/DatasetFile_\"+expertise+\"_step\"+str(step)\n",
    "with open(filename,\"wb\") as f:\n",
    "    pickle.dump(Dataset_full_df_samples,f)\n",
    "\n",
    "print(\"file \",filename,\" saved!\")"
   ]
  },
  {
   "cell_type": "code",
   "execution_count": null,
   "metadata": {},
   "outputs": [],
   "source": []
  },
  {
   "cell_type": "code",
   "execution_count": null,
   "metadata": {},
   "outputs": [],
   "source": []
  },
  {
   "cell_type": "code",
   "execution_count": null,
   "metadata": {},
   "outputs": [],
   "source": []
  }
 ],
 "metadata": {
  "kernelspec": {
   "display_name": "Python 3",
   "language": "python",
   "name": "python3"
  },
  "language_info": {
   "codemirror_mode": {
    "name": "ipython",
    "version": 3
   },
   "file_extension": ".py",
   "mimetype": "text/x-python",
   "name": "python",
   "nbconvert_exporter": "python",
   "pygments_lexer": "ipython3",
   "version": "3.7.1"
  }
 },
 "nbformat": 4,
 "nbformat_minor": 4
}
